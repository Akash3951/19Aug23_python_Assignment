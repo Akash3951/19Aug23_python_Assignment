{
 "cells": [
  {
   "cell_type": "markdown",
   "id": "2cca297e-b097-445d-851b-806749ba6f35",
   "metadata": {},
   "source": [
    "Variable topic"
   ]
  },
  {
   "cell_type": "code",
   "execution_count": 25,
   "id": "7c39e04d-a88d-4457-a1a5-e04aed8dea44",
   "metadata": {},
   "outputs": [
    {
     "name": "stdout",
     "output_type": "stream",
     "text": [
      "a = 5 and b = 9\n"
     ]
    }
   ],
   "source": [
    "# 1. Declare two variables, `x` and `y`, and assign them integer values. Swap the\n",
    "# values of these variables without using any temporary variable.\n",
    "a=9\n",
    "b=5\n",
    "temp = a\n",
    "a=b\n",
    "b=temp\n",
    "print(\"a =\",a,\"and b =\",b)"
   ]
  },
  {
   "cell_type": "code",
   "execution_count": 6,
   "id": "27c08f16-ed65-47c4-aeda-056d9b350696",
   "metadata": {},
   "outputs": [
    {
     "name": "stdin",
     "output_type": "stream",
     "text": [
      " 3\n",
      " 4\n"
     ]
    },
    {
     "name": "stdout",
     "output_type": "stream",
     "text": [
      "Area = 12\n"
     ]
    }
   ],
   "source": [
    "# 2. Create a program that calculates the area of a rectangle. Take the length and\n",
    "# width as inputs from the user and store them in variables. Calculate and\n",
    "# display the area.\n",
    "length = int(input())\n",
    "width = int(input())\n",
    "area = length * width\n",
    "print(\"Area =\",area)"
   ]
  },
  {
   "cell_type": "code",
   "execution_count": 2,
   "id": "6dfbb58c-035e-4f28-b513-785165a90e16",
   "metadata": {},
   "outputs": [
    {
     "name": "stdin",
     "output_type": "stream",
     "text": [
      " 25\n"
     ]
    },
    {
     "name": "stdout",
     "output_type": "stream",
     "text": [
      "Temperature in Fahrenheit is = 77.0 degree\n"
     ]
    }
   ],
   "source": [
    "# 3. Write a Python program that converts temperatures from Celsius to\n",
    "# Fahrenheit. Take the temperature in Celsius as input, store it in a variable,\n",
    "# convert it to Fahrenheit, and display the result.\n",
    "tempCel = int(input())\n",
    "tempFah = (tempCel*(9/5))+32\n",
    "print(\"Temperature in Fahrenheit is =\", tempFah, \"degree\")"
   ]
  },
  {
   "cell_type": "code",
   "execution_count": null,
   "id": "afbe2439-b4a2-424e-8d16-65d03cd17446",
   "metadata": {},
   "outputs": [],
   "source": [
    "String Topic"
   ]
  },
  {
   "cell_type": "code",
   "execution_count": 1,
   "id": "f237625a-8018-4c73-b529-97fdc8d53ae2",
   "metadata": {},
   "outputs": [
    {
     "name": "stdin",
     "output_type": "stream",
     "text": [
      " hello\n"
     ]
    },
    {
     "name": "stdout",
     "output_type": "stream",
     "text": [
      "5\n"
     ]
    }
   ],
   "source": [
    "# 1. Write a Python program that takes a string as input and prints the length of\n",
    "# the string.\n",
    "word = input()\n",
    "print(len(word))"
   ]
  },
  {
   "cell_type": "code",
   "execution_count": 4,
   "id": "964ea0c3-d0b4-4d1c-8c3a-412a67f6e60b",
   "metadata": {},
   "outputs": [
    {
     "name": "stdin",
     "output_type": "stream",
     "text": [
      " Hello my name Is Akash\n"
     ]
    },
    {
     "name": "stdout",
     "output_type": "stream",
     "text": [
      "7\n"
     ]
    }
   ],
   "source": [
    "# 2. Create a program that takes a sentence from the user and counts the number\n",
    "# of vowels (a, e, i, o, u) in the string.\n",
    "sentence=input()\n",
    "count=0;\n",
    "for char in sentence:\n",
    "    if char.lower() in ('a', 'e', 'i', 'o', 'u'):\n",
    "        count+=1\n",
    "        \n",
    "print(count)"
   ]
  },
  {
   "cell_type": "code",
   "execution_count": 14,
   "id": "63d2d212-9c0d-410a-8ec9-781a1434a0f0",
   "metadata": {},
   "outputs": [
    {
     "name": "stdout",
     "output_type": "stream",
     "text": [
      "sllikSwp\n"
     ]
    }
   ],
   "source": [
    "# 3. Given a string, reverse the order of characters using string slicing and print\n",
    "# the reversed string.\n",
    "word = \"pwSkills\"\n",
    "reversedString = word[-1:-9:-1]\n",
    "print(reversedString)"
   ]
  },
  {
   "cell_type": "code",
   "execution_count": 19,
   "id": "6e08981a-1aea-4396-ab8c-90d9c4b02941",
   "metadata": {},
   "outputs": [
    {
     "name": "stdin",
     "output_type": "stream",
     "text": [
      " madam\n"
     ]
    },
    {
     "name": "stdout",
     "output_type": "stream",
     "text": [
      "Pallindrome\n"
     ]
    }
   ],
   "source": [
    "# 4. Write a program that takes a string as input and checks if it is a palindrome\n",
    "# (reads the same forwards and backwards).\n",
    "string = input()\n",
    "reverse = string[-1::-1]\n",
    "if(string == reverse):\n",
    "    print(\"Pallindrome\")\n",
    "else:\n",
    "    print(\"Not pallindrome\")"
   ]
  },
  {
   "cell_type": "code",
   "execution_count": 24,
   "id": "815b71f8-ce3b-46ee-865a-9cbacc644258",
   "metadata": {},
   "outputs": [
    {
     "name": "stdin",
     "output_type": "stream",
     "text": [
      "Enter a string:                  hello           world\n"
     ]
    },
    {
     "name": "stdout",
     "output_type": "stream",
     "text": [
      "Original String:                 hello           world\n",
      "Stripped String: helloworld\n"
     ]
    }
   ],
   "source": [
    "# 5. Create a program that takes a string as input and removes all the spaces from\n",
    "# it. Print the modified string without spaces.\n",
    "string = input(\"Enter a string: \")\n",
    "newString = string.replace(\" \",\"\")\n",
    "print(\"Original String:\", string)\n",
    "print(\"Stripped String:\", newString)"
   ]
  }
 ],
 "metadata": {
  "kernelspec": {
   "display_name": "Python 3 (ipykernel)",
   "language": "python",
   "name": "python3"
  },
  "language_info": {
   "codemirror_mode": {
    "name": "ipython",
    "version": 3
   },
   "file_extension": ".py",
   "mimetype": "text/x-python",
   "name": "python",
   "nbconvert_exporter": "python",
   "pygments_lexer": "ipython3",
   "version": "3.10.8"
  }
 },
 "nbformat": 4,
 "nbformat_minor": 5
}
